{
 "cells": [
  {
   "cell_type": "code",
   "execution_count": 1,
   "id": "43471866",
   "metadata": {},
   "outputs": [],
   "source": [
    "# importing required libraries\n",
    "import numpy as np\n",
    "import pandas as pd\n",
    "import matplotlib.pyplot as plt\n",
    "import warnings\n",
    "warnings.filterwarnings('ignore')\n",
    "\n",
    "%matplotlib inline"
   ]
  },
  {
   "cell_type": "markdown",
   "id": "48277517",
   "metadata": {},
   "source": [
    "## Loading Datasets"
   ]
  },
  {
   "cell_type": "markdown",
   "id": "1ed9a98d",
   "metadata": {},
   "source": [
    "### Batsman "
   ]
  },
  {
   "cell_type": "code",
   "execution_count": 2,
   "id": "407533a8",
   "metadata": {},
   "outputs": [
    {
     "data": {
      "text/html": [
       "<div>\n",
       "<style scoped>\n",
       "    .dataframe tbody tr th:only-of-type {\n",
       "        vertical-align: middle;\n",
       "    }\n",
       "\n",
       "    .dataframe tbody tr th {\n",
       "        vertical-align: top;\n",
       "    }\n",
       "\n",
       "    .dataframe thead th {\n",
       "        text-align: right;\n",
       "    }\n",
       "</style>\n",
       "<table border=\"1\" class=\"dataframe\">\n",
       "  <thead>\n",
       "    <tr style=\"text-align: right;\">\n",
       "      <th></th>\n",
       "      <th>Unnamed: 0</th>\n",
       "      <th>Bat1</th>\n",
       "      <th>Runs</th>\n",
       "      <th>BF</th>\n",
       "      <th>SR</th>\n",
       "      <th>4s</th>\n",
       "      <th>6s</th>\n",
       "      <th>Opposition</th>\n",
       "      <th>Ground</th>\n",
       "      <th>Start Date</th>\n",
       "      <th>Match_ID</th>\n",
       "      <th>Batsman</th>\n",
       "      <th>Player_ID</th>\n",
       "    </tr>\n",
       "  </thead>\n",
       "  <tbody>\n",
       "    <tr>\n",
       "      <th>0</th>\n",
       "      <td>1</td>\n",
       "      <td>DNB</td>\n",
       "      <td>-</td>\n",
       "      <td>-</td>\n",
       "      <td>-</td>\n",
       "      <td>-</td>\n",
       "      <td>-</td>\n",
       "      <td>v India</td>\n",
       "      <td>Nagpur</td>\n",
       "      <td>18 Dec 2009</td>\n",
       "      <td>ODI # 2933</td>\n",
       "      <td>Oshane Thomas</td>\n",
       "      <td>49619</td>\n",
       "    </tr>\n",
       "    <tr>\n",
       "      <th>1</th>\n",
       "      <td>2</td>\n",
       "      <td>DNB</td>\n",
       "      <td>-</td>\n",
       "      <td>-</td>\n",
       "      <td>-</td>\n",
       "      <td>-</td>\n",
       "      <td>-</td>\n",
       "      <td>v India</td>\n",
       "      <td>Kolkata</td>\n",
       "      <td>24 Dec 2009</td>\n",
       "      <td>ODI # 2935</td>\n",
       "      <td>Oshane Thomas</td>\n",
       "      <td>49619</td>\n",
       "    </tr>\n",
       "    <tr>\n",
       "      <th>2</th>\n",
       "      <td>3</td>\n",
       "      <td>DNB</td>\n",
       "      <td>-</td>\n",
       "      <td>-</td>\n",
       "      <td>-</td>\n",
       "      <td>-</td>\n",
       "      <td>-</td>\n",
       "      <td>v India</td>\n",
       "      <td>Delhi</td>\n",
       "      <td>27 Dec 2009</td>\n",
       "      <td>ODI # 2936</td>\n",
       "      <td>Oshane Thomas</td>\n",
       "      <td>49619</td>\n",
       "    </tr>\n",
       "    <tr>\n",
       "      <th>3</th>\n",
       "      <td>4</td>\n",
       "      <td>DNB</td>\n",
       "      <td>-</td>\n",
       "      <td>-</td>\n",
       "      <td>-</td>\n",
       "      <td>-</td>\n",
       "      <td>-</td>\n",
       "      <td>v Bangladesh</td>\n",
       "      <td>Dhaka</td>\n",
       "      <td>4 Jan 2010</td>\n",
       "      <td>ODI # 2937</td>\n",
       "      <td>Oshane Thomas</td>\n",
       "      <td>49619</td>\n",
       "    </tr>\n",
       "    <tr>\n",
       "      <th>4</th>\n",
       "      <td>5</td>\n",
       "      <td>DNB</td>\n",
       "      <td>-</td>\n",
       "      <td>-</td>\n",
       "      <td>-</td>\n",
       "      <td>-</td>\n",
       "      <td>-</td>\n",
       "      <td>v India</td>\n",
       "      <td>Dhaka</td>\n",
       "      <td>5 Jan 2010</td>\n",
       "      <td>ODI # 2938</td>\n",
       "      <td>Oshane Thomas</td>\n",
       "      <td>49619</td>\n",
       "    </tr>\n",
       "  </tbody>\n",
       "</table>\n",
       "</div>"
      ],
      "text/plain": [
       "   Unnamed: 0 Bat1 Runs BF SR 4s 6s    Opposition   Ground   Start Date  \\\n",
       "0           1  DNB    -  -  -  -  -       v India   Nagpur  18 Dec 2009   \n",
       "1           2  DNB    -  -  -  -  -       v India  Kolkata  24 Dec 2009   \n",
       "2           3  DNB    -  -  -  -  -       v India    Delhi  27 Dec 2009   \n",
       "3           4  DNB    -  -  -  -  -  v Bangladesh    Dhaka   4 Jan 2010   \n",
       "4           5  DNB    -  -  -  -  -       v India    Dhaka   5 Jan 2010   \n",
       "\n",
       "     Match_ID        Batsman  Player_ID  \n",
       "0  ODI # 2933  Oshane Thomas      49619  \n",
       "1  ODI # 2935  Oshane Thomas      49619  \n",
       "2  ODI # 2936  Oshane Thomas      49619  \n",
       "3  ODI # 2937  Oshane Thomas      49619  \n",
       "4  ODI # 2938  Oshane Thomas      49619  "
      ]
     },
     "execution_count": 2,
     "metadata": {},
     "output_type": "execute_result"
    }
   ],
   "source": [
    "df1=pd.read_csv('Batsman_Data.csv')\n",
    "df1.head(5)"
   ]
  },
  {
   "cell_type": "markdown",
   "id": "bd3420a3",
   "metadata": {},
   "source": [
    "### Bowler"
   ]
  },
  {
   "cell_type": "code",
   "execution_count": 3,
   "id": "3d54dd7c",
   "metadata": {},
   "outputs": [
    {
     "data": {
      "text/html": [
       "<div>\n",
       "<style scoped>\n",
       "    .dataframe tbody tr th:only-of-type {\n",
       "        vertical-align: middle;\n",
       "    }\n",
       "\n",
       "    .dataframe tbody tr th {\n",
       "        vertical-align: top;\n",
       "    }\n",
       "\n",
       "    .dataframe thead th {\n",
       "        text-align: right;\n",
       "    }\n",
       "</style>\n",
       "<table border=\"1\" class=\"dataframe\">\n",
       "  <thead>\n",
       "    <tr style=\"text-align: right;\">\n",
       "      <th></th>\n",
       "      <th>Unnamed: 0</th>\n",
       "      <th>Overs</th>\n",
       "      <th>Mdns</th>\n",
       "      <th>Runs</th>\n",
       "      <th>Wkts</th>\n",
       "      <th>Econ</th>\n",
       "      <th>Ave</th>\n",
       "      <th>SR</th>\n",
       "      <th>Opposition</th>\n",
       "      <th>Ground</th>\n",
       "      <th>Start Date</th>\n",
       "      <th>Match_ID</th>\n",
       "      <th>Bowler</th>\n",
       "      <th>Player_ID</th>\n",
       "    </tr>\n",
       "  </thead>\n",
       "  <tbody>\n",
       "    <tr>\n",
       "      <th>0</th>\n",
       "      <td>1</td>\n",
       "      <td>8.0</td>\n",
       "      <td>0</td>\n",
       "      <td>57</td>\n",
       "      <td>0</td>\n",
       "      <td>7.12</td>\n",
       "      <td>-</td>\n",
       "      <td>-</td>\n",
       "      <td>v India</td>\n",
       "      <td>Nagpur</td>\n",
       "      <td>18 Dec 2009</td>\n",
       "      <td>ODI # 2933</td>\n",
       "      <td>Suranga Lakmal</td>\n",
       "      <td>49619</td>\n",
       "    </tr>\n",
       "    <tr>\n",
       "      <th>1</th>\n",
       "      <td>2</td>\n",
       "      <td>10.0</td>\n",
       "      <td>0</td>\n",
       "      <td>55</td>\n",
       "      <td>2</td>\n",
       "      <td>5.50</td>\n",
       "      <td>27.50</td>\n",
       "      <td>30.0</td>\n",
       "      <td>v India</td>\n",
       "      <td>Kolkata</td>\n",
       "      <td>24 Dec 2009</td>\n",
       "      <td>ODI # 2935</td>\n",
       "      <td>Suranga Lakmal</td>\n",
       "      <td>49619</td>\n",
       "    </tr>\n",
       "    <tr>\n",
       "      <th>2</th>\n",
       "      <td>3</td>\n",
       "      <td>-</td>\n",
       "      <td>-</td>\n",
       "      <td>-</td>\n",
       "      <td>-</td>\n",
       "      <td>-</td>\n",
       "      <td>-</td>\n",
       "      <td>-</td>\n",
       "      <td>v India</td>\n",
       "      <td>Delhi</td>\n",
       "      <td>27 Dec 2009</td>\n",
       "      <td>ODI # 2936</td>\n",
       "      <td>Suranga Lakmal</td>\n",
       "      <td>49619</td>\n",
       "    </tr>\n",
       "    <tr>\n",
       "      <th>3</th>\n",
       "      <td>4</td>\n",
       "      <td>9.0</td>\n",
       "      <td>1</td>\n",
       "      <td>63</td>\n",
       "      <td>2</td>\n",
       "      <td>7.00</td>\n",
       "      <td>31.50</td>\n",
       "      <td>27.0</td>\n",
       "      <td>v Bangladesh</td>\n",
       "      <td>Dhaka</td>\n",
       "      <td>4 Jan 2010</td>\n",
       "      <td>ODI # 2937</td>\n",
       "      <td>Suranga Lakmal</td>\n",
       "      <td>49619</td>\n",
       "    </tr>\n",
       "    <tr>\n",
       "      <th>4</th>\n",
       "      <td>5</td>\n",
       "      <td>8.0</td>\n",
       "      <td>1</td>\n",
       "      <td>48</td>\n",
       "      <td>0</td>\n",
       "      <td>6.00</td>\n",
       "      <td>-</td>\n",
       "      <td>-</td>\n",
       "      <td>v India</td>\n",
       "      <td>Dhaka</td>\n",
       "      <td>5 Jan 2010</td>\n",
       "      <td>ODI # 2938</td>\n",
       "      <td>Suranga Lakmal</td>\n",
       "      <td>49619</td>\n",
       "    </tr>\n",
       "  </tbody>\n",
       "</table>\n",
       "</div>"
      ],
      "text/plain": [
       "   Unnamed: 0 Overs Mdns Runs Wkts  Econ    Ave    SR    Opposition   Ground  \\\n",
       "0           1   8.0    0   57    0  7.12      -     -       v India   Nagpur   \n",
       "1           2  10.0    0   55    2  5.50  27.50  30.0       v India  Kolkata   \n",
       "2           3     -    -    -    -     -      -     -       v India    Delhi   \n",
       "3           4   9.0    1   63    2  7.00  31.50  27.0  v Bangladesh    Dhaka   \n",
       "4           5   8.0    1   48    0  6.00      -     -       v India    Dhaka   \n",
       "\n",
       "    Start Date    Match_ID          Bowler  Player_ID  \n",
       "0  18 Dec 2009  ODI # 2933  Suranga Lakmal      49619  \n",
       "1  24 Dec 2009  ODI # 2935  Suranga Lakmal      49619  \n",
       "2  27 Dec 2009  ODI # 2936  Suranga Lakmal      49619  \n",
       "3   4 Jan 2010  ODI # 2937  Suranga Lakmal      49619  \n",
       "4   5 Jan 2010  ODI # 2938  Suranga Lakmal      49619  "
      ]
     },
     "execution_count": 3,
     "metadata": {},
     "output_type": "execute_result"
    }
   ],
   "source": [
    "df2=pd.read_csv('Bowler_Data.csv')\n",
    "df2.head(5)"
   ]
  },
  {
   "cell_type": "markdown",
   "id": "e339f438",
   "metadata": {},
   "source": [
    "### Ground Averages"
   ]
  },
  {
   "cell_type": "code",
   "execution_count": 4,
   "id": "87b7aec0",
   "metadata": {},
   "outputs": [
    {
     "data": {
      "text/html": [
       "<div>\n",
       "<style scoped>\n",
       "    .dataframe tbody tr th:only-of-type {\n",
       "        vertical-align: middle;\n",
       "    }\n",
       "\n",
       "    .dataframe tbody tr th {\n",
       "        vertical-align: top;\n",
       "    }\n",
       "\n",
       "    .dataframe thead th {\n",
       "        text-align: right;\n",
       "    }\n",
       "</style>\n",
       "<table border=\"1\" class=\"dataframe\">\n",
       "  <thead>\n",
       "    <tr style=\"text-align: right;\">\n",
       "      <th></th>\n",
       "      <th>Ground</th>\n",
       "      <th>Span</th>\n",
       "      <th>Mat</th>\n",
       "      <th>Won</th>\n",
       "      <th>Tied</th>\n",
       "      <th>NR</th>\n",
       "      <th>Runs</th>\n",
       "      <th>Wkts</th>\n",
       "      <th>Balls</th>\n",
       "      <th>Ave</th>\n",
       "      <th>RPO</th>\n",
       "    </tr>\n",
       "  </thead>\n",
       "  <tbody>\n",
       "    <tr>\n",
       "      <th>0</th>\n",
       "      <td>Eden Gardens, Kolkata - India</td>\n",
       "      <td>2013-2017</td>\n",
       "      <td>4</td>\n",
       "      <td>4</td>\n",
       "      <td>0</td>\n",
       "      <td>0</td>\n",
       "      <td>2161</td>\n",
       "      <td>72</td>\n",
       "      <td>2297</td>\n",
       "      <td>30.01</td>\n",
       "      <td>5.64</td>\n",
       "    </tr>\n",
       "    <tr>\n",
       "      <th>1</th>\n",
       "      <td>Feroz Shah Kotla, Delhi - India</td>\n",
       "      <td>2013-2019</td>\n",
       "      <td>4</td>\n",
       "      <td>4</td>\n",
       "      <td>0</td>\n",
       "      <td>0</td>\n",
       "      <td>1789</td>\n",
       "      <td>75</td>\n",
       "      <td>2331</td>\n",
       "      <td>23.85</td>\n",
       "      <td>4.60</td>\n",
       "    </tr>\n",
       "    <tr>\n",
       "      <th>2</th>\n",
       "      <td>Melbourne Cricket Ground - Australia</td>\n",
       "      <td>2013-2019</td>\n",
       "      <td>15</td>\n",
       "      <td>15</td>\n",
       "      <td>0</td>\n",
       "      <td>0</td>\n",
       "      <td>7656</td>\n",
       "      <td>217</td>\n",
       "      <td>8482</td>\n",
       "      <td>35.28</td>\n",
       "      <td>5.41</td>\n",
       "    </tr>\n",
       "    <tr>\n",
       "      <th>3</th>\n",
       "      <td>Saurashtra Cricket Association Stadium, Rajkot...</td>\n",
       "      <td>2013-2015</td>\n",
       "      <td>2</td>\n",
       "      <td>2</td>\n",
       "      <td>0</td>\n",
       "      <td>0</td>\n",
       "      <td>1163</td>\n",
       "      <td>26</td>\n",
       "      <td>1200</td>\n",
       "      <td>44.73</td>\n",
       "      <td>5.81</td>\n",
       "    </tr>\n",
       "    <tr>\n",
       "      <th>4</th>\n",
       "      <td>Adelaide Oval - Australia</td>\n",
       "      <td>2013-2019</td>\n",
       "      <td>10</td>\n",
       "      <td>10</td>\n",
       "      <td>0</td>\n",
       "      <td>0</td>\n",
       "      <td>4863</td>\n",
       "      <td>157</td>\n",
       "      <td>5645</td>\n",
       "      <td>30.97</td>\n",
       "      <td>5.16</td>\n",
       "    </tr>\n",
       "  </tbody>\n",
       "</table>\n",
       "</div>"
      ],
      "text/plain": [
       "                                              Ground       Span  Mat  Won  \\\n",
       "0                      Eden Gardens, Kolkata - India  2013-2017    4    4   \n",
       "1                    Feroz Shah Kotla, Delhi - India  2013-2019    4    4   \n",
       "2               Melbourne Cricket Ground - Australia  2013-2019   15   15   \n",
       "3  Saurashtra Cricket Association Stadium, Rajkot...  2013-2015    2    2   \n",
       "4                          Adelaide Oval - Australia  2013-2019   10   10   \n",
       "\n",
       "   Tied  NR  Runs  Wkts  Balls    Ave   RPO  \n",
       "0     0   0  2161    72   2297  30.01  5.64  \n",
       "1     0   0  1789    75   2331  23.85  4.60  \n",
       "2     0   0  7656   217   8482  35.28  5.41  \n",
       "3     0   0  1163    26   1200  44.73  5.81  \n",
       "4     0   0  4863   157   5645  30.97  5.16  "
      ]
     },
     "execution_count": 4,
     "metadata": {},
     "output_type": "execute_result"
    }
   ],
   "source": [
    "df3=pd.read_csv('Ground_Averages.csv')\n",
    "df3.head(5)"
   ]
  },
  {
   "cell_type": "markdown",
   "id": "e3493f80",
   "metadata": {},
   "source": [
    "### ODI Match Results"
   ]
  },
  {
   "cell_type": "code",
   "execution_count": 5,
   "id": "671ad42c",
   "metadata": {},
   "outputs": [
    {
     "data": {
      "text/html": [
       "<div>\n",
       "<style scoped>\n",
       "    .dataframe tbody tr th:only-of-type {\n",
       "        vertical-align: middle;\n",
       "    }\n",
       "\n",
       "    .dataframe tbody tr th {\n",
       "        vertical-align: top;\n",
       "    }\n",
       "\n",
       "    .dataframe thead th {\n",
       "        text-align: right;\n",
       "    }\n",
       "</style>\n",
       "<table border=\"1\" class=\"dataframe\">\n",
       "  <thead>\n",
       "    <tr style=\"text-align: right;\">\n",
       "      <th></th>\n",
       "      <th>Unnamed: 0</th>\n",
       "      <th>Result</th>\n",
       "      <th>Margin</th>\n",
       "      <th>BR</th>\n",
       "      <th>Toss</th>\n",
       "      <th>Bat</th>\n",
       "      <th>Opposition</th>\n",
       "      <th>Ground</th>\n",
       "      <th>Start Date</th>\n",
       "      <th>Match_ID</th>\n",
       "      <th>Country</th>\n",
       "      <th>Country_ID</th>\n",
       "    </tr>\n",
       "  </thead>\n",
       "  <tbody>\n",
       "    <tr>\n",
       "      <th>0</th>\n",
       "      <td>418</td>\n",
       "      <td>won</td>\n",
       "      <td>85 runs</td>\n",
       "      <td>NaN</td>\n",
       "      <td>lost</td>\n",
       "      <td>1st</td>\n",
       "      <td>v India</td>\n",
       "      <td>Kolkata</td>\n",
       "      <td>3 Jan 2013</td>\n",
       "      <td>ODI # 3315</td>\n",
       "      <td>Pakistan</td>\n",
       "      <td>7</td>\n",
       "    </tr>\n",
       "    <tr>\n",
       "      <th>1</th>\n",
       "      <td>692</td>\n",
       "      <td>lost</td>\n",
       "      <td>85 runs</td>\n",
       "      <td>NaN</td>\n",
       "      <td>won</td>\n",
       "      <td>2nd</td>\n",
       "      <td>v Pakistan</td>\n",
       "      <td>Kolkata</td>\n",
       "      <td>3 Jan 2013</td>\n",
       "      <td>ODI # 3315</td>\n",
       "      <td>India</td>\n",
       "      <td>6</td>\n",
       "    </tr>\n",
       "    <tr>\n",
       "      <th>2</th>\n",
       "      <td>419</td>\n",
       "      <td>lost</td>\n",
       "      <td>10 runs</td>\n",
       "      <td>NaN</td>\n",
       "      <td>lost</td>\n",
       "      <td>2nd</td>\n",
       "      <td>v India</td>\n",
       "      <td>Delhi</td>\n",
       "      <td>6 Jan 2013</td>\n",
       "      <td>ODI # 3316</td>\n",
       "      <td>Pakistan</td>\n",
       "      <td>7</td>\n",
       "    </tr>\n",
       "    <tr>\n",
       "      <th>3</th>\n",
       "      <td>693</td>\n",
       "      <td>won</td>\n",
       "      <td>10 runs</td>\n",
       "      <td>NaN</td>\n",
       "      <td>won</td>\n",
       "      <td>1st</td>\n",
       "      <td>v Pakistan</td>\n",
       "      <td>Delhi</td>\n",
       "      <td>6 Jan 2013</td>\n",
       "      <td>ODI # 3316</td>\n",
       "      <td>India</td>\n",
       "      <td>6</td>\n",
       "    </tr>\n",
       "    <tr>\n",
       "      <th>4</th>\n",
       "      <td>121</td>\n",
       "      <td>lost</td>\n",
       "      <td>107 runs</td>\n",
       "      <td>NaN</td>\n",
       "      <td>lost</td>\n",
       "      <td>2nd</td>\n",
       "      <td>v Australia</td>\n",
       "      <td>Melbourne</td>\n",
       "      <td>11 Jan 2013</td>\n",
       "      <td>ODI # 3317</td>\n",
       "      <td>SriLanka</td>\n",
       "      <td>8</td>\n",
       "    </tr>\n",
       "  </tbody>\n",
       "</table>\n",
       "</div>"
      ],
      "text/plain": [
       "   Unnamed: 0 Result    Margin  BR  Toss  Bat   Opposition     Ground  \\\n",
       "0         418    won   85 runs NaN  lost  1st      v India    Kolkata   \n",
       "1         692   lost   85 runs NaN   won  2nd   v Pakistan    Kolkata   \n",
       "2         419   lost   10 runs NaN  lost  2nd      v India      Delhi   \n",
       "3         693    won   10 runs NaN   won  1st   v Pakistan      Delhi   \n",
       "4         121   lost  107 runs NaN  lost  2nd  v Australia  Melbourne   \n",
       "\n",
       "    Start Date    Match_ID   Country  Country_ID  \n",
       "0   3 Jan 2013  ODI # 3315  Pakistan           7  \n",
       "1   3 Jan 2013  ODI # 3315     India           6  \n",
       "2   6 Jan 2013  ODI # 3316  Pakistan           7  \n",
       "3   6 Jan 2013  ODI # 3316     India           6  \n",
       "4  11 Jan 2013  ODI # 3317  SriLanka           8  "
      ]
     },
     "execution_count": 5,
     "metadata": {},
     "output_type": "execute_result"
    }
   ],
   "source": [
    "df4=pd.read_csv(\"ODI_Match_Results.csv\")\n",
    "df4.head(5)"
   ]
  },
  {
   "cell_type": "markdown",
   "id": "578a5d89",
   "metadata": {},
   "source": [
    "### ODI matches Total"
   ]
  },
  {
   "cell_type": "code",
   "execution_count": 6,
   "id": "bddc5356",
   "metadata": {},
   "outputs": [
    {
     "data": {
      "text/html": [
       "<div>\n",
       "<style scoped>\n",
       "    .dataframe tbody tr th:only-of-type {\n",
       "        vertical-align: middle;\n",
       "    }\n",
       "\n",
       "    .dataframe tbody tr th {\n",
       "        vertical-align: top;\n",
       "    }\n",
       "\n",
       "    .dataframe thead th {\n",
       "        text-align: right;\n",
       "    }\n",
       "</style>\n",
       "<table border=\"1\" class=\"dataframe\">\n",
       "  <thead>\n",
       "    <tr style=\"text-align: right;\">\n",
       "      <th></th>\n",
       "      <th>Unnamed: 0</th>\n",
       "      <th>Score</th>\n",
       "      <th>Overs</th>\n",
       "      <th>RPO</th>\n",
       "      <th>Target</th>\n",
       "      <th>Inns</th>\n",
       "      <th>Result</th>\n",
       "      <th>Opposition</th>\n",
       "      <th>Ground</th>\n",
       "      <th>Start Date</th>\n",
       "      <th>Match_ID</th>\n",
       "      <th>Country</th>\n",
       "      <th>Country_ID</th>\n",
       "    </tr>\n",
       "  </thead>\n",
       "  <tbody>\n",
       "    <tr>\n",
       "      <th>0</th>\n",
       "      <td>412</td>\n",
       "      <td>250</td>\n",
       "      <td>48.3</td>\n",
       "      <td>5.15</td>\n",
       "      <td>NaN</td>\n",
       "      <td>1</td>\n",
       "      <td>won</td>\n",
       "      <td>v India</td>\n",
       "      <td>Kolkata</td>\n",
       "      <td>3 Jan 2013</td>\n",
       "      <td>ODI # 3315</td>\n",
       "      <td>Pakistan</td>\n",
       "      <td>7</td>\n",
       "    </tr>\n",
       "    <tr>\n",
       "      <th>1</th>\n",
       "      <td>680</td>\n",
       "      <td>165</td>\n",
       "      <td>48.0</td>\n",
       "      <td>3.43</td>\n",
       "      <td>251.0</td>\n",
       "      <td>2</td>\n",
       "      <td>lost</td>\n",
       "      <td>v Pakistan</td>\n",
       "      <td>Kolkata</td>\n",
       "      <td>3 Jan 2013</td>\n",
       "      <td>ODI # 3315</td>\n",
       "      <td>India</td>\n",
       "      <td>6</td>\n",
       "    </tr>\n",
       "    <tr>\n",
       "      <th>2</th>\n",
       "      <td>413</td>\n",
       "      <td>157</td>\n",
       "      <td>48.5</td>\n",
       "      <td>3.21</td>\n",
       "      <td>168.0</td>\n",
       "      <td>2</td>\n",
       "      <td>lost</td>\n",
       "      <td>v India</td>\n",
       "      <td>Delhi</td>\n",
       "      <td>6 Jan 2013</td>\n",
       "      <td>ODI # 3316</td>\n",
       "      <td>Pakistan</td>\n",
       "      <td>7</td>\n",
       "    </tr>\n",
       "    <tr>\n",
       "      <th>3</th>\n",
       "      <td>681</td>\n",
       "      <td>167</td>\n",
       "      <td>43.4</td>\n",
       "      <td>3.82</td>\n",
       "      <td>NaN</td>\n",
       "      <td>1</td>\n",
       "      <td>won</td>\n",
       "      <td>v Pakistan</td>\n",
       "      <td>Delhi</td>\n",
       "      <td>6 Jan 2013</td>\n",
       "      <td>ODI # 3316</td>\n",
       "      <td>India</td>\n",
       "      <td>6</td>\n",
       "    </tr>\n",
       "    <tr>\n",
       "      <th>4</th>\n",
       "      <td>117</td>\n",
       "      <td>198</td>\n",
       "      <td>40.0</td>\n",
       "      <td>4.95</td>\n",
       "      <td>306.0</td>\n",
       "      <td>2</td>\n",
       "      <td>lost</td>\n",
       "      <td>v Australia</td>\n",
       "      <td>Melbourne</td>\n",
       "      <td>11 Jan 2013</td>\n",
       "      <td>ODI # 3317</td>\n",
       "      <td>SriLanka</td>\n",
       "      <td>8</td>\n",
       "    </tr>\n",
       "  </tbody>\n",
       "</table>\n",
       "</div>"
      ],
      "text/plain": [
       "   Unnamed: 0 Score  Overs   RPO  Target  Inns Result   Opposition     Ground  \\\n",
       "0         412   250   48.3  5.15     NaN     1    won      v India    Kolkata   \n",
       "1         680   165   48.0  3.43   251.0     2   lost   v Pakistan    Kolkata   \n",
       "2         413   157   48.5  3.21   168.0     2   lost      v India      Delhi   \n",
       "3         681   167   43.4  3.82     NaN     1    won   v Pakistan      Delhi   \n",
       "4         117   198   40.0  4.95   306.0     2   lost  v Australia  Melbourne   \n",
       "\n",
       "    Start Date    Match_ID   Country  Country_ID  \n",
       "0   3 Jan 2013  ODI # 3315  Pakistan           7  \n",
       "1   3 Jan 2013  ODI # 3315     India           6  \n",
       "2   6 Jan 2013  ODI # 3316  Pakistan           7  \n",
       "3   6 Jan 2013  ODI # 3316     India           6  \n",
       "4  11 Jan 2013  ODI # 3317  SriLanka           8  "
      ]
     },
     "execution_count": 6,
     "metadata": {},
     "output_type": "execute_result"
    }
   ],
   "source": [
    "df5=pd.read_csv(\"ODI_Match_Totals.csv\")\n",
    "df5.head(5)"
   ]
  },
  {
   "cell_type": "markdown",
   "id": "8ec799d5",
   "metadata": {},
   "source": [
    "### WC Players"
   ]
  },
  {
   "cell_type": "code",
   "execution_count": 7,
   "id": "997e3583",
   "metadata": {},
   "outputs": [
    {
     "data": {
      "text/html": [
       "<div>\n",
       "<style scoped>\n",
       "    .dataframe tbody tr th:only-of-type {\n",
       "        vertical-align: middle;\n",
       "    }\n",
       "\n",
       "    .dataframe tbody tr th {\n",
       "        vertical-align: top;\n",
       "    }\n",
       "\n",
       "    .dataframe thead th {\n",
       "        text-align: right;\n",
       "    }\n",
       "</style>\n",
       "<table border=\"1\" class=\"dataframe\">\n",
       "  <thead>\n",
       "    <tr style=\"text-align: right;\">\n",
       "      <th></th>\n",
       "      <th>Player</th>\n",
       "      <th>ID</th>\n",
       "      <th>Country</th>\n",
       "    </tr>\n",
       "  </thead>\n",
       "  <tbody>\n",
       "    <tr>\n",
       "      <th>0</th>\n",
       "      <td>Gulbadin Naib (c)</td>\n",
       "      <td>352048</td>\n",
       "      <td>Afghanistan</td>\n",
       "    </tr>\n",
       "    <tr>\n",
       "      <th>1</th>\n",
       "      <td>Rashid Khan (vc)</td>\n",
       "      <td>793463</td>\n",
       "      <td>Afghanistan</td>\n",
       "    </tr>\n",
       "    <tr>\n",
       "      <th>2</th>\n",
       "      <td>Aftab Alam</td>\n",
       "      <td>440963</td>\n",
       "      <td>Afghanistan</td>\n",
       "    </tr>\n",
       "    <tr>\n",
       "      <th>3</th>\n",
       "      <td>Asghar Afghan</td>\n",
       "      <td>320652</td>\n",
       "      <td>Afghanistan</td>\n",
       "    </tr>\n",
       "    <tr>\n",
       "      <th>4</th>\n",
       "      <td>Dawlat Zadran</td>\n",
       "      <td>516561</td>\n",
       "      <td>Afghanistan</td>\n",
       "    </tr>\n",
       "  </tbody>\n",
       "</table>\n",
       "</div>"
      ],
      "text/plain": [
       "              Player      ID      Country\n",
       "0  Gulbadin Naib (c)  352048  Afghanistan\n",
       "1   Rashid Khan (vc)  793463  Afghanistan\n",
       "2         Aftab Alam  440963  Afghanistan\n",
       "3      Asghar Afghan  320652  Afghanistan\n",
       "4      Dawlat Zadran  516561  Afghanistan"
      ]
     },
     "execution_count": 7,
     "metadata": {},
     "output_type": "execute_result"
    }
   ],
   "source": [
    "df6=pd.read_csv(\"WC_players.csv\")\n",
    "df6.head(5)"
   ]
  },
  {
   "cell_type": "markdown",
   "id": "e94674f0",
   "metadata": {},
   "source": [
    "## merging required  datasets to analyse player's performance"
   ]
  },
  {
   "cell_type": "code",
   "execution_count": 8,
   "id": "cbcfbabf",
   "metadata": {},
   "outputs": [],
   "source": [
    "dataframes=[df1,df2]"
   ]
  },
  {
   "cell_type": "code",
   "execution_count": 9,
   "id": "b4791778",
   "metadata": {},
   "outputs": [],
   "source": [
    "# Merge the DataFrames\n",
    "merged_df = pd.merge(dataframes[0], dataframes[1], on='Player_ID')  # Merging the first two DataFrames"
   ]
  },
  {
   "cell_type": "code",
   "execution_count": 10,
   "id": "b1c1cb30",
   "metadata": {},
   "outputs": [
    {
     "data": {
      "text/html": [
       "<div>\n",
       "<style scoped>\n",
       "    .dataframe tbody tr th:only-of-type {\n",
       "        vertical-align: middle;\n",
       "    }\n",
       "\n",
       "    .dataframe tbody tr th {\n",
       "        vertical-align: top;\n",
       "    }\n",
       "\n",
       "    .dataframe thead th {\n",
       "        text-align: right;\n",
       "    }\n",
       "</style>\n",
       "<table border=\"1\" class=\"dataframe\">\n",
       "  <thead>\n",
       "    <tr style=\"text-align: right;\">\n",
       "      <th></th>\n",
       "      <th>Unnamed: 0_x</th>\n",
       "      <th>Bat1</th>\n",
       "      <th>Runs_x</th>\n",
       "      <th>BF</th>\n",
       "      <th>SR_x</th>\n",
       "      <th>4s</th>\n",
       "      <th>6s</th>\n",
       "      <th>Opposition_x</th>\n",
       "      <th>Ground_x</th>\n",
       "      <th>Start Date_x</th>\n",
       "      <th>...</th>\n",
       "      <th>Runs_y</th>\n",
       "      <th>Wkts</th>\n",
       "      <th>Econ</th>\n",
       "      <th>Ave</th>\n",
       "      <th>SR_y</th>\n",
       "      <th>Opposition_y</th>\n",
       "      <th>Ground_y</th>\n",
       "      <th>Start Date_y</th>\n",
       "      <th>Match_ID_y</th>\n",
       "      <th>Bowler</th>\n",
       "    </tr>\n",
       "  </thead>\n",
       "  <tbody>\n",
       "    <tr>\n",
       "      <th>0</th>\n",
       "      <td>1</td>\n",
       "      <td>DNB</td>\n",
       "      <td>-</td>\n",
       "      <td>-</td>\n",
       "      <td>-</td>\n",
       "      <td>-</td>\n",
       "      <td>-</td>\n",
       "      <td>v India</td>\n",
       "      <td>Nagpur</td>\n",
       "      <td>18 Dec 2009</td>\n",
       "      <td>...</td>\n",
       "      <td>57</td>\n",
       "      <td>0</td>\n",
       "      <td>7.12</td>\n",
       "      <td>-</td>\n",
       "      <td>-</td>\n",
       "      <td>v India</td>\n",
       "      <td>Nagpur</td>\n",
       "      <td>18 Dec 2009</td>\n",
       "      <td>ODI # 2933</td>\n",
       "      <td>Suranga Lakmal</td>\n",
       "    </tr>\n",
       "    <tr>\n",
       "      <th>1</th>\n",
       "      <td>1</td>\n",
       "      <td>DNB</td>\n",
       "      <td>-</td>\n",
       "      <td>-</td>\n",
       "      <td>-</td>\n",
       "      <td>-</td>\n",
       "      <td>-</td>\n",
       "      <td>v India</td>\n",
       "      <td>Nagpur</td>\n",
       "      <td>18 Dec 2009</td>\n",
       "      <td>...</td>\n",
       "      <td>55</td>\n",
       "      <td>2</td>\n",
       "      <td>5.50</td>\n",
       "      <td>27.50</td>\n",
       "      <td>30.0</td>\n",
       "      <td>v India</td>\n",
       "      <td>Kolkata</td>\n",
       "      <td>24 Dec 2009</td>\n",
       "      <td>ODI # 2935</td>\n",
       "      <td>Suranga Lakmal</td>\n",
       "    </tr>\n",
       "    <tr>\n",
       "      <th>2</th>\n",
       "      <td>1</td>\n",
       "      <td>DNB</td>\n",
       "      <td>-</td>\n",
       "      <td>-</td>\n",
       "      <td>-</td>\n",
       "      <td>-</td>\n",
       "      <td>-</td>\n",
       "      <td>v India</td>\n",
       "      <td>Nagpur</td>\n",
       "      <td>18 Dec 2009</td>\n",
       "      <td>...</td>\n",
       "      <td>-</td>\n",
       "      <td>-</td>\n",
       "      <td>-</td>\n",
       "      <td>-</td>\n",
       "      <td>-</td>\n",
       "      <td>v India</td>\n",
       "      <td>Delhi</td>\n",
       "      <td>27 Dec 2009</td>\n",
       "      <td>ODI # 2936</td>\n",
       "      <td>Suranga Lakmal</td>\n",
       "    </tr>\n",
       "  </tbody>\n",
       "</table>\n",
       "<p>3 rows × 26 columns</p>\n",
       "</div>"
      ],
      "text/plain": [
       "   Unnamed: 0_x Bat1 Runs_x BF SR_x 4s 6s Opposition_x Ground_x Start Date_x  \\\n",
       "0             1  DNB      -  -    -  -  -      v India   Nagpur  18 Dec 2009   \n",
       "1             1  DNB      -  -    -  -  -      v India   Nagpur  18 Dec 2009   \n",
       "2             1  DNB      -  -    -  -  -      v India   Nagpur  18 Dec 2009   \n",
       "\n",
       "   ... Runs_y Wkts  Econ    Ave  SR_y Opposition_y Ground_y Start Date_y  \\\n",
       "0  ...     57    0  7.12      -     -      v India   Nagpur  18 Dec 2009   \n",
       "1  ...     55    2  5.50  27.50  30.0      v India  Kolkata  24 Dec 2009   \n",
       "2  ...      -    -     -      -     -      v India    Delhi  27 Dec 2009   \n",
       "\n",
       "   Match_ID_y          Bowler  \n",
       "0  ODI # 2933  Suranga Lakmal  \n",
       "1  ODI # 2935  Suranga Lakmal  \n",
       "2  ODI # 2936  Suranga Lakmal  \n",
       "\n",
       "[3 rows x 26 columns]"
      ]
     },
     "execution_count": 10,
     "metadata": {},
     "output_type": "execute_result"
    }
   ],
   "source": [
    "merged_df.head(3)"
   ]
  },
  {
   "cell_type": "code",
   "execution_count": 11,
   "id": "d1beeefe",
   "metadata": {},
   "outputs": [
    {
     "name": "stdout",
     "output_type": "stream",
     "text": [
      "<class 'pandas.core.frame.DataFrame'>\n",
      "Int64Index: 1476357 entries, 0 to 1476356\n",
      "Data columns (total 26 columns):\n",
      " #   Column        Non-Null Count    Dtype \n",
      "---  ------        --------------    ----- \n",
      " 0   Unnamed: 0_x  1476357 non-null  int64 \n",
      " 1   Bat1          1476357 non-null  object\n",
      " 2   Runs_x        1476357 non-null  object\n",
      " 3   BF            1476357 non-null  object\n",
      " 4   SR_x          1476357 non-null  object\n",
      " 5   4s            1476357 non-null  object\n",
      " 6   6s            1476357 non-null  object\n",
      " 7   Opposition_x  1476357 non-null  object\n",
      " 8   Ground_x      1476357 non-null  object\n",
      " 9   Start Date_x  1476357 non-null  object\n",
      " 10  Match_ID_x    1476357 non-null  object\n",
      " 11  Batsman       1476357 non-null  object\n",
      " 12  Player_ID     1476357 non-null  int64 \n",
      " 13  Unnamed: 0_y  1476357 non-null  int64 \n",
      " 14  Overs         1476357 non-null  object\n",
      " 15  Mdns          1476357 non-null  object\n",
      " 16  Runs_y        1476357 non-null  object\n",
      " 17  Wkts          1476357 non-null  object\n",
      " 18  Econ          1476357 non-null  object\n",
      " 19  Ave           1476357 non-null  object\n",
      " 20  SR_y          1476357 non-null  object\n",
      " 21  Opposition_y  1476357 non-null  object\n",
      " 22  Ground_y      1476357 non-null  object\n",
      " 23  Start Date_y  1476357 non-null  object\n",
      " 24  Match_ID_y    1476357 non-null  object\n",
      " 25  Bowler        1476357 non-null  object\n",
      "dtypes: int64(3), object(23)\n",
      "memory usage: 304.1+ MB\n"
     ]
    }
   ],
   "source": [
    "merged_df.info()"
   ]
  },
  {
   "cell_type": "markdown",
   "id": "49d4df94",
   "metadata": {},
   "source": [
    "## choosing required attributes for player performance analysis"
   ]
  },
  {
   "cell_type": "code",
   "execution_count": 12,
   "id": "625f959f",
   "metadata": {},
   "outputs": [
    {
     "data": {
      "text/html": [
       "<div>\n",
       "<style scoped>\n",
       "    .dataframe tbody tr th:only-of-type {\n",
       "        vertical-align: middle;\n",
       "    }\n",
       "\n",
       "    .dataframe tbody tr th {\n",
       "        vertical-align: top;\n",
       "    }\n",
       "\n",
       "    .dataframe thead th {\n",
       "        text-align: right;\n",
       "    }\n",
       "</style>\n",
       "<table border=\"1\" class=\"dataframe\">\n",
       "  <thead>\n",
       "    <tr style=\"text-align: right;\">\n",
       "      <th></th>\n",
       "      <th>Runs_x</th>\n",
       "      <th>BF</th>\n",
       "      <th>SR_x</th>\n",
       "      <th>4s</th>\n",
       "      <th>6s</th>\n",
       "      <th>Overs</th>\n",
       "      <th>Mdns</th>\n",
       "      <th>Runs_y</th>\n",
       "      <th>Wkts</th>\n",
       "      <th>Econ</th>\n",
       "      <th>Ave</th>\n",
       "      <th>SR_y</th>\n",
       "    </tr>\n",
       "  </thead>\n",
       "  <tbody>\n",
       "    <tr>\n",
       "      <th>0</th>\n",
       "      <td>-</td>\n",
       "      <td>-</td>\n",
       "      <td>-</td>\n",
       "      <td>-</td>\n",
       "      <td>-</td>\n",
       "      <td>8.0</td>\n",
       "      <td>0</td>\n",
       "      <td>57</td>\n",
       "      <td>0</td>\n",
       "      <td>7.12</td>\n",
       "      <td>-</td>\n",
       "      <td>-</td>\n",
       "    </tr>\n",
       "    <tr>\n",
       "      <th>1</th>\n",
       "      <td>-</td>\n",
       "      <td>-</td>\n",
       "      <td>-</td>\n",
       "      <td>-</td>\n",
       "      <td>-</td>\n",
       "      <td>10.0</td>\n",
       "      <td>0</td>\n",
       "      <td>55</td>\n",
       "      <td>2</td>\n",
       "      <td>5.50</td>\n",
       "      <td>27.50</td>\n",
       "      <td>30.0</td>\n",
       "    </tr>\n",
       "    <tr>\n",
       "      <th>2</th>\n",
       "      <td>-</td>\n",
       "      <td>-</td>\n",
       "      <td>-</td>\n",
       "      <td>-</td>\n",
       "      <td>-</td>\n",
       "      <td>-</td>\n",
       "      <td>-</td>\n",
       "      <td>-</td>\n",
       "      <td>-</td>\n",
       "      <td>-</td>\n",
       "      <td>-</td>\n",
       "      <td>-</td>\n",
       "    </tr>\n",
       "    <tr>\n",
       "      <th>3</th>\n",
       "      <td>-</td>\n",
       "      <td>-</td>\n",
       "      <td>-</td>\n",
       "      <td>-</td>\n",
       "      <td>-</td>\n",
       "      <td>9.0</td>\n",
       "      <td>1</td>\n",
       "      <td>63</td>\n",
       "      <td>2</td>\n",
       "      <td>7.00</td>\n",
       "      <td>31.50</td>\n",
       "      <td>27.0</td>\n",
       "    </tr>\n",
       "    <tr>\n",
       "      <th>4</th>\n",
       "      <td>-</td>\n",
       "      <td>-</td>\n",
       "      <td>-</td>\n",
       "      <td>-</td>\n",
       "      <td>-</td>\n",
       "      <td>8.0</td>\n",
       "      <td>1</td>\n",
       "      <td>48</td>\n",
       "      <td>0</td>\n",
       "      <td>6.00</td>\n",
       "      <td>-</td>\n",
       "      <td>-</td>\n",
       "    </tr>\n",
       "  </tbody>\n",
       "</table>\n",
       "</div>"
      ],
      "text/plain": [
       "  Runs_x BF SR_x 4s 6s Overs Mdns Runs_y Wkts  Econ    Ave  SR_y\n",
       "0      -  -    -  -  -   8.0    0     57    0  7.12      -     -\n",
       "1      -  -    -  -  -  10.0    0     55    2  5.50  27.50  30.0\n",
       "2      -  -    -  -  -     -    -      -    -     -      -     -\n",
       "3      -  -    -  -  -   9.0    1     63    2  7.00  31.50  27.0\n",
       "4      -  -    -  -  -   8.0    1     48    0  6.00      -     -"
      ]
     },
     "execution_count": 12,
     "metadata": {},
     "output_type": "execute_result"
    }
   ],
   "source": [
    "merged_df1= merged_df[['Runs_x','BF','SR_x','4s','6s','Overs','Mdns','Runs_y','Wkts','Econ','Ave','SR_y']]\n",
    "merged_df1.head(5)"
   ]
  },
  {
   "cell_type": "code",
   "execution_count": 13,
   "id": "88e82a5a",
   "metadata": {
    "scrolled": true
   },
   "outputs": [],
   "source": [
    "#replacing '-' with nan value\n",
    "merged_df1.replace('-',np.nan,inplace=True)"
   ]
  },
  {
   "cell_type": "code",
   "execution_count": 14,
   "id": "7896aed0",
   "metadata": {},
   "outputs": [],
   "source": [
    "#dropping null values\n",
    "merged_df1.dropna(inplace=True)"
   ]
  },
  {
   "cell_type": "code",
   "execution_count": 15,
   "id": "a9063615",
   "metadata": {},
   "outputs": [
    {
     "data": {
      "text/html": [
       "<div>\n",
       "<style scoped>\n",
       "    .dataframe tbody tr th:only-of-type {\n",
       "        vertical-align: middle;\n",
       "    }\n",
       "\n",
       "    .dataframe tbody tr th {\n",
       "        vertical-align: top;\n",
       "    }\n",
       "\n",
       "    .dataframe thead th {\n",
       "        text-align: right;\n",
       "    }\n",
       "</style>\n",
       "<table border=\"1\" class=\"dataframe\">\n",
       "  <thead>\n",
       "    <tr style=\"text-align: right;\">\n",
       "      <th></th>\n",
       "      <th>Runs_x</th>\n",
       "      <th>BF</th>\n",
       "      <th>SR_x</th>\n",
       "      <th>4s</th>\n",
       "      <th>6s</th>\n",
       "      <th>Overs</th>\n",
       "      <th>Mdns</th>\n",
       "      <th>Runs_y</th>\n",
       "      <th>Wkts</th>\n",
       "      <th>Econ</th>\n",
       "      <th>Ave</th>\n",
       "      <th>SR_y</th>\n",
       "    </tr>\n",
       "  </thead>\n",
       "  <tbody>\n",
       "    <tr>\n",
       "      <th>406</th>\n",
       "      <td>0</td>\n",
       "      <td>8</td>\n",
       "      <td>0.00</td>\n",
       "      <td>0</td>\n",
       "      <td>0</td>\n",
       "      <td>10.0</td>\n",
       "      <td>0</td>\n",
       "      <td>55</td>\n",
       "      <td>2</td>\n",
       "      <td>5.50</td>\n",
       "      <td>27.50</td>\n",
       "      <td>30.0</td>\n",
       "    </tr>\n",
       "    <tr>\n",
       "      <th>408</th>\n",
       "      <td>0</td>\n",
       "      <td>8</td>\n",
       "      <td>0.00</td>\n",
       "      <td>0</td>\n",
       "      <td>0</td>\n",
       "      <td>9.0</td>\n",
       "      <td>1</td>\n",
       "      <td>63</td>\n",
       "      <td>2</td>\n",
       "      <td>7.00</td>\n",
       "      <td>31.50</td>\n",
       "      <td>27.0</td>\n",
       "    </tr>\n",
       "    <tr>\n",
       "      <th>411</th>\n",
       "      <td>0</td>\n",
       "      <td>8</td>\n",
       "      <td>0.00</td>\n",
       "      <td>0</td>\n",
       "      <td>0</td>\n",
       "      <td>7.0</td>\n",
       "      <td>0</td>\n",
       "      <td>52</td>\n",
       "      <td>2</td>\n",
       "      <td>7.42</td>\n",
       "      <td>26.00</td>\n",
       "      <td>21.0</td>\n",
       "    </tr>\n",
       "    <tr>\n",
       "      <th>412</th>\n",
       "      <td>0</td>\n",
       "      <td>8</td>\n",
       "      <td>0.00</td>\n",
       "      <td>0</td>\n",
       "      <td>0</td>\n",
       "      <td>7.5</td>\n",
       "      <td>0</td>\n",
       "      <td>43</td>\n",
       "      <td>3</td>\n",
       "      <td>5.48</td>\n",
       "      <td>14.33</td>\n",
       "      <td>15.6</td>\n",
       "    </tr>\n",
       "    <tr>\n",
       "      <th>413</th>\n",
       "      <td>0</td>\n",
       "      <td>8</td>\n",
       "      <td>0.00</td>\n",
       "      <td>0</td>\n",
       "      <td>0</td>\n",
       "      <td>10.0</td>\n",
       "      <td>0</td>\n",
       "      <td>62</td>\n",
       "      <td>2</td>\n",
       "      <td>6.20</td>\n",
       "      <td>31.00</td>\n",
       "      <td>30.0</td>\n",
       "    </tr>\n",
       "  </tbody>\n",
       "</table>\n",
       "</div>"
      ],
      "text/plain": [
       "    Runs_x BF  SR_x 4s 6s Overs Mdns Runs_y Wkts  Econ    Ave  SR_y\n",
       "406      0  8  0.00  0  0  10.0    0     55    2  5.50  27.50  30.0\n",
       "408      0  8  0.00  0  0   9.0    1     63    2  7.00  31.50  27.0\n",
       "411      0  8  0.00  0  0   7.0    0     52    2  7.42  26.00  21.0\n",
       "412      0  8  0.00  0  0   7.5    0     43    3  5.48  14.33  15.6\n",
       "413      0  8  0.00  0  0  10.0    0     62    2  6.20  31.00  30.0"
      ]
     },
     "execution_count": 15,
     "metadata": {},
     "output_type": "execute_result"
    }
   ],
   "source": [
    "merged_df1.head(5)"
   ]
  },
  {
   "cell_type": "code",
   "execution_count": 16,
   "id": "33698874",
   "metadata": {},
   "outputs": [],
   "source": [
    "#reseting the index\n",
    "merged_df1.reset_index(inplace=True)"
   ]
  },
  {
   "cell_type": "code",
   "execution_count": 17,
   "id": "c13bcf3f",
   "metadata": {},
   "outputs": [],
   "source": [
    "#droping index column\n",
    "merged_df1.drop(columns='index', inplace=True)"
   ]
  },
  {
   "cell_type": "code",
   "execution_count": 18,
   "id": "b6875c18",
   "metadata": {},
   "outputs": [
    {
     "data": {
      "text/html": [
       "<div>\n",
       "<style scoped>\n",
       "    .dataframe tbody tr th:only-of-type {\n",
       "        vertical-align: middle;\n",
       "    }\n",
       "\n",
       "    .dataframe tbody tr th {\n",
       "        vertical-align: top;\n",
       "    }\n",
       "\n",
       "    .dataframe thead th {\n",
       "        text-align: right;\n",
       "    }\n",
       "</style>\n",
       "<table border=\"1\" class=\"dataframe\">\n",
       "  <thead>\n",
       "    <tr style=\"text-align: right;\">\n",
       "      <th></th>\n",
       "      <th>Runs_x</th>\n",
       "      <th>BF</th>\n",
       "      <th>SR_x</th>\n",
       "      <th>4s</th>\n",
       "      <th>6s</th>\n",
       "      <th>Overs</th>\n",
       "      <th>Mdns</th>\n",
       "      <th>Runs_y</th>\n",
       "      <th>Wkts</th>\n",
       "      <th>Econ</th>\n",
       "      <th>Ave</th>\n",
       "      <th>SR_y</th>\n",
       "    </tr>\n",
       "  </thead>\n",
       "  <tbody>\n",
       "    <tr>\n",
       "      <th>0</th>\n",
       "      <td>0</td>\n",
       "      <td>8</td>\n",
       "      <td>0.00</td>\n",
       "      <td>0</td>\n",
       "      <td>0</td>\n",
       "      <td>10.0</td>\n",
       "      <td>0</td>\n",
       "      <td>55</td>\n",
       "      <td>2</td>\n",
       "      <td>5.50</td>\n",
       "      <td>27.50</td>\n",
       "      <td>30.0</td>\n",
       "    </tr>\n",
       "    <tr>\n",
       "      <th>1</th>\n",
       "      <td>0</td>\n",
       "      <td>8</td>\n",
       "      <td>0.00</td>\n",
       "      <td>0</td>\n",
       "      <td>0</td>\n",
       "      <td>9.0</td>\n",
       "      <td>1</td>\n",
       "      <td>63</td>\n",
       "      <td>2</td>\n",
       "      <td>7.00</td>\n",
       "      <td>31.50</td>\n",
       "      <td>27.0</td>\n",
       "    </tr>\n",
       "    <tr>\n",
       "      <th>2</th>\n",
       "      <td>0</td>\n",
       "      <td>8</td>\n",
       "      <td>0.00</td>\n",
       "      <td>0</td>\n",
       "      <td>0</td>\n",
       "      <td>7.0</td>\n",
       "      <td>0</td>\n",
       "      <td>52</td>\n",
       "      <td>2</td>\n",
       "      <td>7.42</td>\n",
       "      <td>26.00</td>\n",
       "      <td>21.0</td>\n",
       "    </tr>\n",
       "    <tr>\n",
       "      <th>3</th>\n",
       "      <td>0</td>\n",
       "      <td>8</td>\n",
       "      <td>0.00</td>\n",
       "      <td>0</td>\n",
       "      <td>0</td>\n",
       "      <td>7.5</td>\n",
       "      <td>0</td>\n",
       "      <td>43</td>\n",
       "      <td>3</td>\n",
       "      <td>5.48</td>\n",
       "      <td>14.33</td>\n",
       "      <td>15.6</td>\n",
       "    </tr>\n",
       "    <tr>\n",
       "      <th>4</th>\n",
       "      <td>0</td>\n",
       "      <td>8</td>\n",
       "      <td>0.00</td>\n",
       "      <td>0</td>\n",
       "      <td>0</td>\n",
       "      <td>10.0</td>\n",
       "      <td>0</td>\n",
       "      <td>62</td>\n",
       "      <td>2</td>\n",
       "      <td>6.20</td>\n",
       "      <td>31.00</td>\n",
       "      <td>30.0</td>\n",
       "    </tr>\n",
       "  </tbody>\n",
       "</table>\n",
       "</div>"
      ],
      "text/plain": [
       "  Runs_x BF  SR_x 4s 6s Overs Mdns Runs_y Wkts  Econ    Ave  SR_y\n",
       "0      0  8  0.00  0  0  10.0    0     55    2  5.50  27.50  30.0\n",
       "1      0  8  0.00  0  0   9.0    1     63    2  7.00  31.50  27.0\n",
       "2      0  8  0.00  0  0   7.0    0     52    2  7.42  26.00  21.0\n",
       "3      0  8  0.00  0  0   7.5    0     43    3  5.48  14.33  15.6\n",
       "4      0  8  0.00  0  0  10.0    0     62    2  6.20  31.00  30.0"
      ]
     },
     "execution_count": 18,
     "metadata": {},
     "output_type": "execute_result"
    }
   ],
   "source": [
    "merged_df1.head(5)"
   ]
  },
  {
   "cell_type": "code",
   "execution_count": 19,
   "id": "9c085a52",
   "metadata": {},
   "outputs": [],
   "source": [
    "# Converting columns to numeric data types\n",
    "numeric_columns = ['SR_x', 'Econ', 'Ave', 'SR_y']"
   ]
  },
  {
   "cell_type": "code",
   "execution_count": 20,
   "id": "df917b57",
   "metadata": {},
   "outputs": [],
   "source": [
    "merged_df1[numeric_columns] = merged_df1[numeric_columns].apply(pd.to_numeric)"
   ]
  },
  {
   "cell_type": "code",
   "execution_count": 21,
   "id": "9a746c14",
   "metadata": {},
   "outputs": [],
   "source": [
    "# Define importance weights\n",
    "weights = {\n",
    "    'SR_x': 0.25,\n",
    "    'Econ': 0.25,\n",
    "    'Ave': 0.25,\n",
    "    'SR_y': 0.25\n",
    "}"
   ]
  },
  {
   "cell_type": "code",
   "execution_count": 22,
   "id": "bb8ca98a",
   "metadata": {},
   "outputs": [],
   "source": [
    "# Calculate performance score and saved in performance_score column\n",
    "merged_df1['performance_score'] = merged_df1[numeric_columns].dot(pd.Series(weights))"
   ]
  },
  {
   "cell_type": "code",
   "execution_count": 23,
   "id": "7a39d008",
   "metadata": {},
   "outputs": [],
   "source": [
    "#dropping columns which are avaraged into performance_score\n",
    "merged_df1.drop(columns=['SR_x','Econ','Ave','SR_y'], inplace=True)"
   ]
  },
  {
   "cell_type": "code",
   "execution_count": 24,
   "id": "a0eb37a3",
   "metadata": {},
   "outputs": [
    {
     "data": {
      "text/html": [
       "<div>\n",
       "<style scoped>\n",
       "    .dataframe tbody tr th:only-of-type {\n",
       "        vertical-align: middle;\n",
       "    }\n",
       "\n",
       "    .dataframe tbody tr th {\n",
       "        vertical-align: top;\n",
       "    }\n",
       "\n",
       "    .dataframe thead th {\n",
       "        text-align: right;\n",
       "    }\n",
       "</style>\n",
       "<table border=\"1\" class=\"dataframe\">\n",
       "  <thead>\n",
       "    <tr style=\"text-align: right;\">\n",
       "      <th></th>\n",
       "      <th>Runs_x</th>\n",
       "      <th>BF</th>\n",
       "      <th>4s</th>\n",
       "      <th>6s</th>\n",
       "      <th>Overs</th>\n",
       "      <th>Mdns</th>\n",
       "      <th>Runs_y</th>\n",
       "      <th>Wkts</th>\n",
       "      <th>performance_score</th>\n",
       "    </tr>\n",
       "  </thead>\n",
       "  <tbody>\n",
       "    <tr>\n",
       "      <th>0</th>\n",
       "      <td>0</td>\n",
       "      <td>8</td>\n",
       "      <td>0</td>\n",
       "      <td>0</td>\n",
       "      <td>10.0</td>\n",
       "      <td>0</td>\n",
       "      <td>55</td>\n",
       "      <td>2</td>\n",
       "      <td>15.7500</td>\n",
       "    </tr>\n",
       "    <tr>\n",
       "      <th>1</th>\n",
       "      <td>0</td>\n",
       "      <td>8</td>\n",
       "      <td>0</td>\n",
       "      <td>0</td>\n",
       "      <td>9.0</td>\n",
       "      <td>1</td>\n",
       "      <td>63</td>\n",
       "      <td>2</td>\n",
       "      <td>16.3750</td>\n",
       "    </tr>\n",
       "    <tr>\n",
       "      <th>2</th>\n",
       "      <td>0</td>\n",
       "      <td>8</td>\n",
       "      <td>0</td>\n",
       "      <td>0</td>\n",
       "      <td>7.0</td>\n",
       "      <td>0</td>\n",
       "      <td>52</td>\n",
       "      <td>2</td>\n",
       "      <td>13.6050</td>\n",
       "    </tr>\n",
       "    <tr>\n",
       "      <th>3</th>\n",
       "      <td>0</td>\n",
       "      <td>8</td>\n",
       "      <td>0</td>\n",
       "      <td>0</td>\n",
       "      <td>7.5</td>\n",
       "      <td>0</td>\n",
       "      <td>43</td>\n",
       "      <td>3</td>\n",
       "      <td>8.8525</td>\n",
       "    </tr>\n",
       "    <tr>\n",
       "      <th>4</th>\n",
       "      <td>0</td>\n",
       "      <td>8</td>\n",
       "      <td>0</td>\n",
       "      <td>0</td>\n",
       "      <td>10.0</td>\n",
       "      <td>0</td>\n",
       "      <td>62</td>\n",
       "      <td>2</td>\n",
       "      <td>16.8000</td>\n",
       "    </tr>\n",
       "  </tbody>\n",
       "</table>\n",
       "</div>"
      ],
      "text/plain": [
       "  Runs_x BF 4s 6s Overs Mdns Runs_y Wkts  performance_score\n",
       "0      0  8  0  0  10.0    0     55    2            15.7500\n",
       "1      0  8  0  0   9.0    1     63    2            16.3750\n",
       "2      0  8  0  0   7.0    0     52    2            13.6050\n",
       "3      0  8  0  0   7.5    0     43    3             8.8525\n",
       "4      0  8  0  0  10.0    0     62    2            16.8000"
      ]
     },
     "execution_count": 24,
     "metadata": {},
     "output_type": "execute_result"
    }
   ],
   "source": [
    "merged_df1.head(5)"
   ]
  },
  {
   "cell_type": "code",
   "execution_count": 25,
   "id": "b40d5542",
   "metadata": {},
   "outputs": [
    {
     "name": "stdout",
     "output_type": "stream",
     "text": [
      "<class 'pandas.core.frame.DataFrame'>\n",
      "RangeIndex: 289310 entries, 0 to 289309\n",
      "Data columns (total 9 columns):\n",
      " #   Column             Non-Null Count   Dtype  \n",
      "---  ------             --------------   -----  \n",
      " 0   Runs_x             289310 non-null  object \n",
      " 1   BF                 289310 non-null  object \n",
      " 2   4s                 289310 non-null  object \n",
      " 3   6s                 289310 non-null  object \n",
      " 4   Overs              289310 non-null  object \n",
      " 5   Mdns               289310 non-null  object \n",
      " 6   Runs_y             289310 non-null  object \n",
      " 7   Wkts               289310 non-null  object \n",
      " 8   performance_score  289310 non-null  float64\n",
      "dtypes: float64(1), object(8)\n",
      "memory usage: 19.9+ MB\n"
     ]
    }
   ],
   "source": [
    "#after removing null values / before removing duplicates\n",
    "merged_df1.info()"
   ]
  },
  {
   "cell_type": "code",
   "execution_count": 26,
   "id": "602405cf",
   "metadata": {},
   "outputs": [
    {
     "data": {
      "text/plain": [
       "Runs_x               0\n",
       "BF                   0\n",
       "4s                   0\n",
       "6s                   0\n",
       "Overs                0\n",
       "Mdns                 0\n",
       "Runs_y               0\n",
       "Wkts                 0\n",
       "performance_score    0\n",
       "dtype: int64"
      ]
     },
     "execution_count": 26,
     "metadata": {},
     "output_type": "execute_result"
    }
   ],
   "source": [
    "merged_df1.isnull().sum()"
   ]
  },
  {
   "cell_type": "code",
   "execution_count": 27,
   "id": "59babcd2",
   "metadata": {},
   "outputs": [
    {
     "data": {
      "text/plain": [
       "58922"
      ]
     },
     "execution_count": 27,
     "metadata": {},
     "output_type": "execute_result"
    }
   ],
   "source": [
    "#total duplicate values\n",
    "merged_df1.duplicated().sum()"
   ]
  },
  {
   "cell_type": "code",
   "execution_count": 28,
   "id": "fb4d63d9",
   "metadata": {},
   "outputs": [],
   "source": [
    "#dropping duplicates\n",
    "merged_df1.drop_duplicates(inplace=True)"
   ]
  },
  {
   "cell_type": "code",
   "execution_count": 29,
   "id": "826a0c34",
   "metadata": {},
   "outputs": [
    {
     "data": {
      "text/plain": [
       "0"
      ]
     },
     "execution_count": 29,
     "metadata": {},
     "output_type": "execute_result"
    }
   ],
   "source": [
    "merged_df1.duplicated().sum()"
   ]
  },
  {
   "cell_type": "code",
   "execution_count": 30,
   "id": "564c8f9f",
   "metadata": {},
   "outputs": [
    {
     "name": "stdout",
     "output_type": "stream",
     "text": [
      "<class 'pandas.core.frame.DataFrame'>\n",
      "Int64Index: 230388 entries, 0 to 289309\n",
      "Data columns (total 9 columns):\n",
      " #   Column             Non-Null Count   Dtype  \n",
      "---  ------             --------------   -----  \n",
      " 0   Runs_x             230388 non-null  object \n",
      " 1   BF                 230388 non-null  object \n",
      " 2   4s                 230388 non-null  object \n",
      " 3   6s                 230388 non-null  object \n",
      " 4   Overs              230388 non-null  object \n",
      " 5   Mdns               230388 non-null  object \n",
      " 6   Runs_y             230388 non-null  object \n",
      " 7   Wkts               230388 non-null  object \n",
      " 8   performance_score  230388 non-null  float64\n",
      "dtypes: float64(1), object(8)\n",
      "memory usage: 17.6+ MB\n"
     ]
    }
   ],
   "source": [
    "#after removing duplicates\n",
    "merged_df1.info()"
   ]
  },
  {
   "cell_type": "markdown",
   "id": "b96de95f",
   "metadata": {},
   "source": [
    "### checking for outliers"
   ]
  },
  {
   "cell_type": "code",
   "execution_count": 31,
   "id": "121a4501",
   "metadata": {},
   "outputs": [
    {
     "data": {
      "image/png": "[encoded data removed]",
      "text/plain": [
       "<Figure size 1200x1600 with 8 Axes>"
      ]
     },
     "metadata": {},
     "output_type": "display_data"
    }
   ],
   "source": [
    "numeric_columns = ['Runs_x', 'BF', '4s', '6s', 'Overs', 'Mdns', 'Runs_y', 'Wkts']\n",
    "merged_df1[numeric_columns] = merged_df1[numeric_columns].apply(pd.to_numeric, errors='coerce')\n",
    "\n",
    "# Selecting all numeric columns except the last one\n",
    "data_columns = merged_df1.select_dtypes(include=['number']).columns[:-1]\n",
    "\n",
    "# Creating subplots\n",
    "num_plots = len(data_columns)\n",
    "num_rows = 4\n",
    "num_cols = 2\n",
    "\n",
    "fig, axes = plt.subplots(nrows=num_rows, ncols=num_cols, figsize=(12, 16))\n",
    "\n",
    "# Creating box plots for each numeric column\n",
    "for idx, column in enumerate(data_columns):\n",
    "    row = idx // num_cols\n",
    "    col = idx % num_cols\n",
    "    merged_df1[[column]].boxplot(ax=axes[row, col])\n",
    "    axes[row, col].set_title(f'Box Plot for {column}')\n",
    "    axes[row, col].set_ylabel('Value')\n",
    "\n",
    "plt.tight_layout()\n",
    "plt.show()"
   ]
  },
  {
   "cell_type": "markdown",
   "id": "bf297ffd",
   "metadata": {},
   "source": [
    "## There are outliers in Run_x,BF,4s,6s,Runs_y,wkts"
   ]
  },
  {
   "cell_type": "code",
   "execution_count": 32,
   "id": "c78fea19",
   "metadata": {},
   "outputs": [],
   "source": [
    "# Remove outliers in 'Runs_x' column\n",
    "merged_df1 = merged_df1[merged_df1['Runs_x'] <= 70]\n",
    "\n",
    "# Remove outliers in 'BF' column\n",
    "merged_df1 = merged_df1[merged_df1['BF'] <= 80]\n",
    "\n",
    "# Remove outliers in '4s' column\n",
    "merged_df1 = merged_df1[merged_df1['4s'] <= 8]\n",
    "\n",
    "# Remove outliers in '6s' column\n",
    "merged_df1 = merged_df1[merged_df1['6s'] <= 3]\n",
    "\n",
    "# Remove outliers in 'Runs_y' column\n",
    "merged_df1 = merged_df1[merged_df1['Runs_y'] <= 78]\n"
   ]
  },
  {
   "cell_type": "code",
   "execution_count": 33,
   "id": "336b7fe5",
   "metadata": {},
   "outputs": [
    {
     "data": {
      "image/png": "[encoded data removed]",
      "text/plain": [
       "<Figure size 1200x1600 with 8 Axes>"
      ]
     },
     "metadata": {},
     "output_type": "display_data"
    }
   ],
   "source": [
    "numeric_columns = ['Runs_x', 'BF', '4s', '6s', 'Overs', 'Mdns', 'Runs_y', 'Wkts']\n",
    "merged_df1[numeric_columns] = merged_df1[numeric_columns].apply(pd.to_numeric, errors='coerce')\n",
    "\n",
    "# Selecting all numeric columns except the last one\n",
    "data_columns = merged_df1.select_dtypes(include=['number']).columns[:-1]\n",
    "\n",
    "# Creating subplots\n",
    "num_plots = len(data_columns)\n",
    "num_rows = 4\n",
    "num_cols = 2\n",
    "\n",
    "fig, axes = plt.subplots(nrows=num_rows, ncols=num_cols, figsize=(12, 16))\n",
    "\n",
    "# Creating box plots for each numeric column\n",
    "for idx, column in enumerate(data_columns):\n",
    "    row = idx // num_cols\n",
    "    col = idx % num_cols\n",
    "    merged_df1[[column]].boxplot(ax=axes[row, col])\n",
    "    axes[row, col].set_title(f'Box Plot for {column}')\n",
    "    axes[row, col].set_ylabel('Value')\n",
    "\n",
    "plt.tight_layout()\n",
    "plt.show()"
   ]
  },
  {
   "cell_type": "code",
   "execution_count": 34,
   "id": "fb1caf89",
   "metadata": {},
   "outputs": [
    {
     "name": "stdout",
     "output_type": "stream",
     "text": [
      "<class 'pandas.core.frame.DataFrame'>\n",
      "Int64Index: 203023 entries, 0 to 289309\n",
      "Data columns (total 9 columns):\n",
      " #   Column             Non-Null Count   Dtype  \n",
      "---  ------             --------------   -----  \n",
      " 0   Runs_x             203023 non-null  int64  \n",
      " 1   BF                 203023 non-null  int64  \n",
      " 2   4s                 203023 non-null  int64  \n",
      " 3   6s                 203023 non-null  int64  \n",
      " 4   Overs              203023 non-null  float64\n",
      " 5   Mdns               203023 non-null  int64  \n",
      " 6   Runs_y             203023 non-null  int64  \n",
      " 7   Wkts               203023 non-null  int64  \n",
      " 8   performance_score  203023 non-null  float64\n",
      "dtypes: float64(2), int64(7)\n",
      "memory usage: 15.5 MB\n"
     ]
    }
   ],
   "source": [
    "merged_df1.info()"
   ]
  },
  {
   "cell_type": "code",
   "execution_count": 35,
   "id": "871cf36a",
   "metadata": {},
   "outputs": [],
   "source": [
    "# splitting the dataset into dependent & independent attributes\n",
    "X=merged_df1.iloc[:,:-1].values\n",
    "Y=merged_df1.iloc[:,-1].values"
   ]
  },
  {
   "cell_type": "code",
   "execution_count": 36,
   "id": "e659eb4c",
   "metadata": {},
   "outputs": [
    {
     "data": {
      "text/plain": [
       "array([[ 0.,  8.,  0., ...,  0., 55.,  2.],\n",
       "       [ 0.,  8.,  0., ...,  1., 63.,  2.],\n",
       "       [ 0.,  8.,  0., ...,  0., 52.,  2.],\n",
       "       ...,\n",
       "       [ 1.,  8.,  0., ...,  0., 29.,  2.],\n",
       "       [ 1.,  8.,  0., ...,  0., 20.,  2.],\n",
       "       [ 1.,  8.,  0., ...,  0., 72.,  3.]])"
      ]
     },
     "execution_count": 36,
     "metadata": {},
     "output_type": "execute_result"
    }
   ],
   "source": [
    "X   #independent variables"
   ]
  },
  {
   "cell_type": "code",
   "execution_count": 37,
   "id": "2452d802",
   "metadata": {},
   "outputs": [
    {
     "data": {
      "text/plain": [
       "array([15.75 , 16.375, 13.605, ..., 13.655, 11.805, 15.925])"
      ]
     },
     "execution_count": 37,
     "metadata": {},
     "output_type": "execute_result"
    }
   ],
   "source": [
    "Y   #target variable"
   ]
  },
  {
   "cell_type": "code",
   "execution_count": 38,
   "id": "070f7f26",
   "metadata": {},
   "outputs": [],
   "source": [
    "# scaling the independent variable to same scale\n",
    "from sklearn.preprocessing import StandardScaler\n",
    "scaler=StandardScaler()"
   ]
  },
  {
   "cell_type": "code",
   "execution_count": 39,
   "id": "d5e84fa4",
   "metadata": {},
   "outputs": [
    {
     "data": {
      "text/plain": [
       "array([[-1.14770141, -0.82923519, -0.89911797, ..., -0.58143946,\n",
       "         1.22943277,  0.20514241],\n",
       "       [-1.14770141, -0.82923519, -0.89911797, ...,  0.78884139,\n",
       "         1.75749667,  0.20514241],\n",
       "       [-1.14770141, -0.82923519, -0.89911797, ..., -0.58143946,\n",
       "         1.03140881,  0.20514241],\n",
       "       ...,\n",
       "       [-1.08727174, -0.82923519, -0.89911797, ..., -0.58143946,\n",
       "        -0.48677489,  0.20514241],\n",
       "       [-1.08727174, -0.82923519, -0.89911797, ..., -0.58143946,\n",
       "        -1.08084677,  0.20514241],\n",
       "       [-1.08727174, -0.82923519, -0.89911797, ..., -0.58143946,\n",
       "         2.35156855,  1.20944982]])"
      ]
     },
     "execution_count": 39,
     "metadata": {},
     "output_type": "execute_result"
    }
   ],
   "source": [
    "X=scaler.fit_transform(X)\n",
    "X"
   ]
  },
  {
   "cell_type": "code",
   "execution_count": 40,
   "id": "59957bee",
   "metadata": {},
   "outputs": [],
   "source": [
    "#splitting the data into train and test dataset\n",
    "from sklearn.model_selection import train_test_split\n",
    "x_train,x_test,y_train,y_test = train_test_split(X,Y, test_size=0.2,random_state=42)"
   ]
  },
  {
   "cell_type": "code",
   "execution_count": 41,
   "id": "0297bfe5",
   "metadata": {},
   "outputs": [
    {
     "name": "stdout",
     "output_type": "stream",
     "text": [
      "x train shape : (162418, 8)\n",
      "y_train shape : (162418,)\n",
      "x_test shape : (40605, 8)\n",
      "y_test shape : (40605,)\n"
     ]
    }
   ],
   "source": [
    "#shapes of the train and test sets\n",
    "print('x train shape :', x_train.shape)\n",
    "print('y_train shape :',y_train.shape)\n",
    "print('x_test shape :',x_test.shape)\n",
    "print('y_test shape :',y_test.shape)"
   ]
  },
  {
   "cell_type": "markdown",
   "id": "33bf4004",
   "metadata": {},
   "source": [
    "# Training"
   ]
  },
  {
   "cell_type": "markdown",
   "id": "470415c9",
   "metadata": {},
   "source": [
    "## 2.RandomForestRegressor"
   ]
  },
  {
   "cell_type": "code",
   "execution_count": 46,
   "id": "32deef69",
   "metadata": {},
   "outputs": [],
   "source": [
    "from sklearn.ensemble import RandomForestRegressor\n",
    "RF= RandomForestRegressor(n_estimators=100, random_state=42)"
   ]
  },
  {
   "cell_type": "code",
   "execution_count": 47,
   "id": "be0e9ff5",
   "metadata": {},
   "outputs": [
    {
     "data": {
      "text/html": [
       "<style>#sk-container-id-2 {color: black;}#sk-container-id-2 pre{padding: 0;}#sk-container-id-2 div.sk-toggleable {background-color: white;}#sk-container-id-2 label.sk-toggleable__label {cursor: pointer;display: block;width: 100%;margin-bottom: 0;padding: 0.3em;box-sizing: border-box;text-align: center;}#sk-container-id-2 label.sk-toggleable__label-arrow:before {content: \"▸\";float: left;margin-right: 0.25em;color: #696969;}#sk-container-id-2 label.sk-toggleable__label-arrow:hover:before {color: black;}#sk-container-id-2 div.sk-estimator:hover label.sk-toggleable__label-arrow:before {color: black;}#sk-container-id-2 div.sk-toggleable__content {max-height: 0;max-width: 0;overflow: hidden;text-align: left;background-color: #f0f8ff;}#sk-container-id-2 div.sk-toggleable__content pre {margin: 0.2em;color: black;border-radius: 0.25em;background-color: #f0f8ff;}#sk-container-id-2 input.sk-toggleable__control:checked~div.sk-toggleable__content {max-height: 200px;max-width: 100%;overflow: auto;}#sk-container-id-2 input.sk-toggleable__control:checked~label.sk-toggleable__label-arrow:before {content: \"▾\";}#sk-container-id-2 div.sk-estimator input.sk-toggleable__control:checked~label.sk-toggleable__label {background-color: #d4ebff;}#sk-container-id-2 div.sk-label input.sk-toggleable__control:checked~label.sk-toggleable__label {background-color: #d4ebff;}#sk-container-id-2 input.sk-hidden--visually {border: 0;clip: rect(1px 1px 1px 1px);clip: rect(1px, 1px, 1px, 1px);height: 1px;margin: -1px;overflow: hidden;padding: 0;position: absolute;width: 1px;}#sk-container-id-2 div.sk-estimator {font-family: monospace;background-color: #f0f8ff;border: 1px dotted black;border-radius: 0.25em;box-sizing: border-box;margin-bottom: 0.5em;}#sk-container-id-2 div.sk-estimator:hover {background-color: #d4ebff;}#sk-container-id-2 div.sk-parallel-item::after {content: \"\";width: 100%;border-bottom: 1px solid gray;flex-grow: 1;}#sk-container-id-2 div.sk-label:hover label.sk-toggleable__label {background-color: #d4ebff;}#sk-container-id-2 div.sk-serial::before {content: \"\";position: absolute;border-left: 1px solid gray;box-sizing: border-box;top: 0;bottom: 0;left: 50%;z-index: 0;}#sk-container-id-2 div.sk-serial {display: flex;flex-direction: column;align-items: center;background-color: white;padding-right: 0.2em;padding-left: 0.2em;position: relative;}#sk-container-id-2 div.sk-item {position: relative;z-index: 1;}#sk-container-id-2 div.sk-parallel {display: flex;align-items: stretch;justify-content: center;background-color: white;position: relative;}#sk-container-id-2 div.sk-item::before, #sk-container-id-2 div.sk-parallel-item::before {content: \"\";position: absolute;border-left: 1px solid gray;box-sizing: border-box;top: 0;bottom: 0;left: 50%;z-index: -1;}#sk-container-id-2 div.sk-parallel-item {display: flex;flex-direction: column;z-index: 1;position: relative;background-color: white;}#sk-container-id-2 div.sk-parallel-item:first-child::after {align-self: flex-end;width: 50%;}#sk-container-id-2 div.sk-parallel-item:last-child::after {align-self: flex-start;width: 50%;}#sk-container-id-2 div.sk-parallel-item:only-child::after {width: 0;}#sk-container-id-2 div.sk-dashed-wrapped {border: 1px dashed gray;margin: 0 0.4em 0.5em 0.4em;box-sizing: border-box;padding-bottom: 0.4em;background-color: white;}#sk-container-id-2 div.sk-label label {font-family: monospace;font-weight: bold;display: inline-block;line-height: 1.2em;}#sk-container-id-2 div.sk-label-container {text-align: center;}#sk-container-id-2 div.sk-container {/* jupyter's `normalize.less` sets `[hidden] { display: none; }` but bootstrap.min.css set `[hidden] { display: none !important; }` so we also need the `!important` here to be able to override the default hidden behavior on the sphinx rendered scikit-learn.org. See: https://github.com/scikit-learn/scikit-learn/issues/21755 */display: inline-block !important;position: relative;}#sk-container-id-2 div.sk-text-repr-fallback {display: none;}</style><div id=\"sk-container-id-2\" class=\"sk-top-container\"><div class=\"sk-text-repr-fallback\"><pre>RandomForestRegressor(random_state=42)</pre><b>In a Jupyter environment, please rerun this cell to show the HTML representation or trust the notebook. <br />On GitHub, the HTML representation is unable to render, please try loading this page with nbviewer.org.</b></div><div class=\"sk-container\" hidden><div class=\"sk-item\"><div class=\"sk-estimator sk-toggleable\"><input class=\"sk-toggleable__control sk-hidden--visually\" id=\"sk-estimator-id-2\" type=\"checkbox\" checked><label for=\"sk-estimator-id-2\" class=\"sk-toggleable__label sk-toggleable__label-arrow\">RandomForestRegressor</label><div class=\"sk-toggleable__content\"><pre>RandomForestRegressor(random_state=42)</pre></div></div></div></div></div>"
      ],
      "text/plain": [
       "RandomForestRegressor(random_state=42)"
      ]
     },
     "execution_count": 47,
     "metadata": {},
     "output_type": "execute_result"
    }
   ],
   "source": [
    "RF.fit(x_train,y_train)"
   ]
  },
  {
   "cell_type": "code",
   "execution_count": 48,
   "id": "d6238360",
   "metadata": {},
   "outputs": [],
   "source": [
    "y2_pred= RF.predict(x_test)"
   ]
  },
  {
   "cell_type": "markdown",
   "id": "7f7b521c",
   "metadata": {},
   "source": [
    "### evaluation"
   ]
  },
  {
   "cell_type": "code",
   "execution_count": 49,
   "id": "d9da1ae1",
   "metadata": {},
   "outputs": [
    {
     "name": "stdout",
     "output_type": "stream",
     "text": [
      "r2_score : 0.9982428304760129\n"
     ]
    }
   ],
   "source": [
    "#evaluation\n",
    "from sklearn.metrics import r2_score\n",
    "print('r2_score :',r2_score(y2_pred,y_test))"
   ]
  },
  {
   "cell_type": "markdown",
   "id": "4654cbef",
   "metadata": {},
   "source": [
    "## PREDICTION"
   ]
  },
  {
   "cell_type": "code",
   "execution_count": 53,
   "id": "749517a6",
   "metadata": {},
   "outputs": [
    {
     "data": {
      "text/html": [
       "<div>\n",
       "<style scoped>\n",
       "    .dataframe tbody tr th:only-of-type {\n",
       "        vertical-align: middle;\n",
       "    }\n",
       "\n",
       "    .dataframe tbody tr th {\n",
       "        vertical-align: top;\n",
       "    }\n",
       "\n",
       "    .dataframe thead th {\n",
       "        text-align: right;\n",
       "    }\n",
       "</style>\n",
       "<table border=\"1\" class=\"dataframe\">\n",
       "  <thead>\n",
       "    <tr style=\"text-align: right;\">\n",
       "      <th></th>\n",
       "      <th>Runs_x</th>\n",
       "      <th>BF</th>\n",
       "      <th>4s</th>\n",
       "      <th>6s</th>\n",
       "      <th>Overs</th>\n",
       "      <th>Mdns</th>\n",
       "      <th>Runs_y</th>\n",
       "      <th>Wkts</th>\n",
       "      <th>performance_score</th>\n",
       "    </tr>\n",
       "  </thead>\n",
       "  <tbody>\n",
       "    <tr>\n",
       "      <th>102</th>\n",
       "      <td>1</td>\n",
       "      <td>3</td>\n",
       "      <td>0</td>\n",
       "      <td>0</td>\n",
       "      <td>10.0</td>\n",
       "      <td>0</td>\n",
       "      <td>47</td>\n",
       "      <td>2</td>\n",
       "      <td>22.8825</td>\n",
       "    </tr>\n",
       "    <tr>\n",
       "      <th>103</th>\n",
       "      <td>1</td>\n",
       "      <td>3</td>\n",
       "      <td>0</td>\n",
       "      <td>0</td>\n",
       "      <td>10.0</td>\n",
       "      <td>0</td>\n",
       "      <td>42</td>\n",
       "      <td>1</td>\n",
       "      <td>34.8825</td>\n",
       "    </tr>\n",
       "    <tr>\n",
       "      <th>104</th>\n",
       "      <td>1</td>\n",
       "      <td>3</td>\n",
       "      <td>0</td>\n",
       "      <td>0</td>\n",
       "      <td>10.0</td>\n",
       "      <td>4</td>\n",
       "      <td>13</td>\n",
       "      <td>4</td>\n",
       "      <td>13.2200</td>\n",
       "    </tr>\n",
       "    <tr>\n",
       "      <th>105</th>\n",
       "      <td>1</td>\n",
       "      <td>3</td>\n",
       "      <td>0</td>\n",
       "      <td>0</td>\n",
       "      <td>10.0</td>\n",
       "      <td>0</td>\n",
       "      <td>70</td>\n",
       "      <td>1</td>\n",
       "      <td>42.5825</td>\n",
       "    </tr>\n",
       "    <tr>\n",
       "      <th>106</th>\n",
       "      <td>1</td>\n",
       "      <td>3</td>\n",
       "      <td>0</td>\n",
       "      <td>0</td>\n",
       "      <td>7.0</td>\n",
       "      <td>1</td>\n",
       "      <td>21</td>\n",
       "      <td>3</td>\n",
       "      <td>14.3325</td>\n",
       "    </tr>\n",
       "  </tbody>\n",
       "</table>\n",
       "</div>"
      ],
      "text/plain": [
       "     Runs_x  BF  4s  6s  Overs  Mdns  Runs_y  Wkts  performance_score\n",
       "102       1   3   0   0   10.0     0      47     2            22.8825\n",
       "103       1   3   0   0   10.0     0      42     1            34.8825\n",
       "104       1   3   0   0   10.0     4      13     4            13.2200\n",
       "105       1   3   0   0   10.0     0      70     1            42.5825\n",
       "106       1   3   0   0    7.0     1      21     3            14.3325"
      ]
     },
     "execution_count": 53,
     "metadata": {},
     "output_type": "execute_result"
    }
   ],
   "source": [
    "merged_df1[100:105]"
   ]
  },
  {
   "cell_type": "code",
   "execution_count": 51,
   "id": "6dd0a827",
   "metadata": {},
   "outputs": [],
   "source": [
    "def performance_prediction(input):\n",
    "    input_array=np.array(input)\n",
    "    input_reshaped=input_array.reshape(1,-1)\n",
    "    prediction=RF.predict(input_reshaped)\n",
    "    print(prediction)"
   ]
  },
  {
   "cell_type": "code",
   "execution_count": 52,
   "id": "96eb7639",
   "metadata": {},
   "outputs": [
    {
     "name": "stdout",
     "output_type": "stream",
     "text": [
      "[26.726075]\n"
     ]
    }
   ],
   "source": [
    "performance_prediction([1,8,0,0,10.0,1,42,1])"
   ]
  },
  {
   "cell_type": "code",
   "execution_count": 54,
   "id": "76bd9a20",
   "metadata": {},
   "outputs": [
    {
     "name": "stdout",
     "output_type": "stream",
     "text": [
      "[23.196625]\n"
     ]
    }
   ],
   "source": [
    "performance_prediction([1,3,0,0,7.0,1,21,3])"
   ]
  },
  {
   "cell_type": "code",
   "execution_count": null,
   "id": "2fb5baa7",
   "metadata": {},
   "outputs": [],
   "source": []
  }
 ],
 "metadata": {
  "kernelspec": {
   "display_name": "Python 3 (ipykernel)",
   "language": "python",
   "name": "python3"
  },
  "language_info": {
   "codemirror_mode": {
    "name": "ipython",
    "version": 3
   },
   "file_extension": ".py",
   "mimetype": "text/x-python",
   "name": "python",
   "nbconvert_exporter": "python",
   "pygments_lexer": "ipython3",
   "version": "3.9.13"
  }
 },
 "nbformat": 4,
 "nbformat_minor": 5
}
